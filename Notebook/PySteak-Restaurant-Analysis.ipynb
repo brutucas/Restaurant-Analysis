{
 "cells": [
  {
   "cell_type": "code",
   "execution_count": null,
   "id": "0c575153-b538-4cff-8373-bb923b3f31b9",
   "metadata": {},
   "outputs": [],
   "source": [
    "# -*- coding: UTF-8 -*-\n",
    "\"\"\"PySteak Homework Starter.\"\"\"\n",
    "\n",
    "# @TODO: Import libraries\n",
    "import csv\n",
    "from pathlib import Path\n",
    "\n",
    "# @TODO: Set file paths for menu_data.csv and sales_data.csv\n",
    "menu_filepath = Path('Resources/menu_data.csv')\n",
    "sales_filepath = Path('Resources/sales_data.csv')\n",
    "\n",
    "# @TODO: Initialize list objects to hold our menu and sales data\n",
    "menu = []\n",
    "sales = []\n"
   ]
  },
  {
   "cell_type": "code",
   "execution_count": null,
   "id": "3f46adbe-b33f-4a2d-b608-ee18574c2bb3",
   "metadata": {},
   "outputs": [],
   "source": [
    "# @TODO: Read in the menu data into the menu list\n",
    "with open(menu_filepath, 'r') as csv_file:\n",
    "    reader = csv.reader(csv_file)\n",
    "    next(reader, None)\n",
    "    \n",
    "    for row in reader:\n",
    "        menu.append(row)\n",
    "        \n",
    "# @TODO: Read in the sales data into the sales list\n",
    "with open(sales_filepath, 'r') as csv_file:\n",
    "    reader = csv.reader(csv_file)\n",
    "    next(reader, None)\n",
    "\n",
    "    for row in reader:\n",
    "        sales.append(row)\n",
    "        "
   ]
  },
  {
   "cell_type": "code",
   "execution_count": null,
   "id": "a90a57b9-8a5d-4580-90ba-95467c17fd45",
   "metadata": {},
   "outputs": [],
   "source": [
    "# @TODO: Initialize dict object to hold our key-value pairs of items and metrics\n",
    "report = {}\n",
    "\n",
    "# Initialize a row counter variable\n",
    "row_count = 0\n",
    "\n",
    "# @TODO: Loop over every row in the sales list object\n",
    "for row in sales:\n",
    "\n",
    "    # Line_Item_ID,Date,Credit_Card_Number,Quantity,Menu_Item\n",
    "    # @TODO: Initialize (\"create them\") sales data variables\n",
    "    quantity = int(row[3])\n",
    "    sales_item = row[4]\n",
    "    \n",
    "    # @TODO:\n",
    "    # If the item value not in the report, add it as a new entry with initialized metrics\n",
    "    # Naming convention allows the keys to be ordered in logical fashion, count, revenue, cost, profit\n",
    "    if sales_item not in report.keys():\n",
    "        report[sales_item] = {\n",
    "            \"count\":0,\n",
    "            \"revenue\":0,\n",
    "            \"cost\":0,\n",
    "            \"profit\":0\n",
    "        }\n",
    "\n",
    "    # @TODO: For every row in our sales data, loop over the menu records to determine a match\n",
    "    for food_item in menu:\n",
    "\n",
    "        # Item,Category,Description,Price,Cost\n",
    "        # @TODO: Initialize menu data variables\n",
    "        item = food_item[0]\n",
    "        price = float(food_item[3])\n",
    "        cost = float(food_item[4])\n",
    "\n",
    "# need quantity from sales data\n",
    "        # @TODO: Calculate profit of each item in the menu data\n",
    "        profit = price - cost\n",
    "\n",
    "        # @TODO: If the item value in our sales data is equal to the any of the items in the menu, then begin tracking metrics for that item\n",
    "        if sales_item == item:\n",
    "\n",
    "            # @TODO: Cumulatively add up the metrics for each item key\n",
    "            report[sales_item][\"count\"] += quantity\n",
    "            report[sales_item][\"revenue\"] += price * quantity\n",
    "            report[sales_item][\"cost\"] += cost * quantity\n",
    "            report[sales_item][\"profit\"] += profit * quantity\n",
    "\n",
    "        # @TODO: Else, the sales item does not equal any of the item in the menu data, therefore no match\n",
    "        else:\n",
    "            print(f\"{sales_item} does not equal {item}! No match.\")\n",
    "\n",
    "    # @TODO: Increment the row counter by 1\n",
    "    row_count += 1\n",
    "\n",
    "# @TODO: Print total number of records in sales data\n",
    "print(report)\n",
    "\n",
    "# @TODO: Write out report to a text file (won't appear on the command line output)"
   ]
  },
  {
   "cell_type": "code",
   "execution_count": null,
   "id": "c6a169f4-8046-4323-908d-2d68e1adc6ff",
   "metadata": {},
   "outputs": [],
   "source": [
    "with open(\"report.txt\", \"w\") as txt_file:\n",
    "    for key, value in report.items():\n",
    "        line = f\"{key} {value}\\n\"\n",
    "        txt_file.write(line)"
   ]
  },
  {
   "cell_type": "code",
   "execution_count": null,
   "id": "0354c33b",
   "metadata": {},
   "outputs": [],
   "source": [
    "print(report)"
   ]
  },
  {
   "cell_type": "code",
   "execution_count": null,
   "id": "027883b4",
   "metadata": {},
   "outputs": [],
   "source": []
  }
 ],
 "metadata": {
  "kernelspec": {
   "display_name": "Python 3 (ipykernel)",
   "language": "python",
   "name": "python3"
  },
  "language_info": {
   "codemirror_mode": {
    "name": "ipython",
    "version": 3
   },
   "file_extension": ".py",
   "mimetype": "text/x-python",
   "name": "python",
   "nbconvert_exporter": "python",
   "pygments_lexer": "ipython3",
   "version": "3.8.2"
  }
 },
 "nbformat": 4,
 "nbformat_minor": 5
}
